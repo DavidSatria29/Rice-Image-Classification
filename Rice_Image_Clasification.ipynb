{
 "cells": [
  {
   "cell_type": "markdown",
   "metadata": {
    "id": "jgu9nqz3ZEej"
   },
   "source": [
    "# Main Objective"
   ]
  },
  {
   "cell_type": "markdown",
   "metadata": {
    "id": "ATC_wQ_6ZSXt"
   },
   "source": [
    "The primary objective of this analysis is to develop a high-accuracy model for the automated classification of rice varieties based on image data. This project focuses on a specific type of Deep Learning algorithm known as Convolutional Neural Networks (CNNs), which are exceptionally well-suited for image recognition tasks. The analysis aims to compare three different CNN architectures (AlexNet, VGG-16, and ResNet-50) to identify the most effective and efficient model for this specific problem.\n",
    "\n",
    "The business benefit of this analysis is significant for stakeholders in the agricultural and food industries. An accurate automated classification system can:\n",
    "\n",
    "1. Enhance Quality Control: For rice producers and distributors, it can rapidly and consistently verify rice types, ensuring product quality and preventing adulteration in the supply chain.\n",
    "\n",
    "2. Increase Efficiency: It automates a process that would otherwise require manual inspection, saving time and labor costs.\n",
    "\n",
    "3. Ensure Consumer Trust: For consumers and retailers, it guarantees that the product they purchase is of the specified variety, building brand trust and loyalty."
   ]
  },
  {
   "cell_type": "markdown",
   "metadata": {
    "id": "f4QF3fP_w5EI"
   },
   "source": [
    "# Dataset Explanation"
   ]
  },
  {
   "cell_type": "markdown",
   "metadata": {
    "id": "mYelPMvrw9_A"
   },
   "source": [
    "The analysis utilizes the \"Rice Image Dataset\" available on Kaggle. This dataset contains a total of 75,000 images, equally distributed across five different varieties of rice.\n",
    "\n",
    "- Classes (Attributes): The five classes of rice are:\n",
    "\n",
    "  - Arborio\n",
    "\n",
    "  - Basmati\n",
    "\n",
    "  - Ipsala\n",
    "\n",
    "  - Jasmine\n",
    "\n",
    "  - Karacadag\n",
    "\n",
    "- Data Format: Each image is a 250x250 pixel color photograph of a single grain of rice against a plain background.\n",
    "\n",
    "- Goal: The objective of this analysis is to train a deep learning model that can take any of these images as input and accurately predict which of the five rice varieties it belongs to."
   ]
  },
  {
   "cell_type": "markdown",
   "metadata": {
    "id": "S1srx_goZHD9"
   },
   "source": [
    "# Import The Necessary Moduls"
   ]
  },
  {
   "cell_type": "code",
   "execution_count": null,
   "metadata": {
    "id": "mOhGkPxeY6Aq"
   },
   "outputs": [],
   "source": [
    "# --- Importing Necessary Libraries ---\n",
    "\n",
    "# Import the warnings module to handle any warning messages.\n",
    "import warnings\n",
    "# Set the warning filter to 'ignore' for a cleaner output.\n",
    "warnings.simplefilter('ignore')\n",
    "\n",
    "import os\n",
    "# Import the kagglehub library to interact with Kaggle, e.g., for downloading models or datasets.\n",
    "import kagglehub\n",
    "# Import the glob module to find files in a directory using specific patterns (e.g., *.jpg).\n",
    "import glob\n",
    "# Import the pandas library for data manipulation and analysis, especially for tabular data (DataFrames).\n",
    "import pandas as pd\n",
    "# Import the matplotlib library to create data visualizations like graphs and plots.\n",
    "import matplotlib.pyplot as plt\n",
    "# Import the numpy library for numerical computations, particularly for array and matrix operations.\n",
    "import numpy as np\n",
    "# Import the main TensorFlow library for building and training machine learning models.\n",
    "import tensorflow as tf\n",
    "\n",
    "from datasets import Dataset, Image\n",
    "# Import tqdm to display informative progress bars during loops.\n",
    "from tqdm.auto import tqdm\n",
    "# Import Keras, TensorFlow's high-level API for easily building neural networks.\n",
    "from tensorflow import keras\n",
    "# Import the Sequential model, which is the most common linear stack of layers.\n",
    "from tensorflow.keras.models import Sequential\n",
    "# Import the pre-trained ResNet50 model architecture.\n",
    "from tensorflow.keras.applications import ResNet50\n",
    "# Import basic layer types for a neural network.\n",
    "from tensorflow.keras.layers import Dense, Dropout, Activation, Flatten\n",
    "# Import layer types specific to Convolutional Neural Networks (CNNs).\n",
    "from tensorflow.keras.layers import Conv2D, MaxPooling2D, GlobalAveragePooling2D"
   ]
  },
  {
   "cell_type": "markdown",
   "metadata": {
    "id": "AIY-WwVRZPzv"
   },
   "source": [
    "# Preprocessing"
   ]
  },
  {
   "cell_type": "markdown",
   "metadata": {
    "id": "ad02EnkLkXPL"
   },
   "source": [
    "This section covers all the steps involved in preparing the data for model training. This includes downloading the dataset, loading the images, converting them into a usable format, splitting them into training and testing sets, and performing necessary transformations like resizing and normalization."
   ]
  },
  {
   "cell_type": "markdown",
   "metadata": {
    "id": "MLQNw3qmugcV"
   },
   "source": [
    "This line uses the kagglehub library to download the \"Rice Image Dataset\" by Murat Koklu. The function returns the local file path where the dataset is stored."
   ]
  },
  {
   "cell_type": "markdown",
   "metadata": {
    "id": "GbQFSTUfxP-r"
   },
   "source": [
    "The data preparation process was a critical part of the analysis, involving several key actions to make the data suitable for training the CNN models.\n",
    "\n",
    "- Data Loading: The dataset was first downloaded from Kaggle and loaded into a structured format using the Hugging Face datasets library. The class labels were automatically inferred from the directory names where the images were stored.\n",
    "\n",
    "- Train-Test Split: The full dataset of 75,000 images was split into a training set (60,000 images, 80%) and a testing set (15,000 images, 20%) to allow for unbiased evaluation of the models' performance.\n",
    "\n",
    "- Feature Engineering (Image Resizing): A key decision was made to significantly downscale the images from their original 250x250 pixel resolution to a much smaller 32x32 pixels. The rationale was that for classifying a single grain of rice, the primary distinguishing features are its overall shape, length, and width, rather than fine-grained texture. This reduction drastically decreased computational load and training time without sacrificing essential information.\n",
    "\n",
    "- Data Cleaning (Normalization & Encoding):\n",
    "\n",
    "  - Normalization: The pixel values of the images were scaled from their original range of 0-255 to a range of 0-1. This is a standard practice that helps the model converge faster and more stably during training.\n",
    "\n",
    "  - One-Hot Encoding: The integer-based labels (0 to 4) were converted into a one-hot encoded format (e.g., class 3 became the vector [0, 0, 0, 1, 0]). This is the required format for the categorical_crossentropy loss function used in multi-class classification."
   ]
  },
  {
   "cell_type": "code",
   "execution_count": null,
   "metadata": {
    "id": "AxG5mr1hktLE"
   },
   "outputs": [],
   "source": [
    "# Download the 'Rice Image Dataset' from Kaggle Hub.\n",
    "# The path to the downloaded dataset's directory will be assigned to the 'path' variable.\n",
    "path = kagglehub.dataset_download(\"muratkokludataset/rice-image-dataset\")"
   ]
  },
  {
   "cell_type": "code",
   "execution_count": null,
   "metadata": {
    "colab": {
     "base_uri": "https://localhost:8080/"
    },
    "id": "OgCGRgT_-3Qv",
    "outputId": "f439caab-d4de-452e-8c8a-087d9c30802a"
   },
   "outputs": [
    {
     "name": "stdout",
     "output_type": "stream",
     "text": [
      "/kaggle/input/rice-image-dataset\n"
     ]
    }
   ],
   "source": [
    "print(path)"
   ]
  },
  {
   "cell_type": "markdown",
   "metadata": {
    "id": "hvQbpa-0ulOU"
   },
   "source": [
    "This is a crucial data loading step. Instead of using an automatic image loader, this code manually constructs a dataset.\n",
    "\n",
    "  - It uses glob.glob to recursively find all files ending with .jpg within the dataset directory. This is a robust way to collect all image paths.\n",
    "\n",
    "  - It extracts the class label for each image by taking the name of its parent directory (e.g., 'Arborio', 'Basmati').\n",
    "\n",
    "  - It creates a Python dictionary mapping the file paths to their corresponding labels.\n",
    "\n",
    "  - It uses Dataset.from_dict from the Hugging Face datasets library to create a structured Dataset object.\n",
    "\n",
    "  - Finally, it cast_column to convert the image paths into actual image objects and class_encode_column to convert the string labels into integer indices (e.g., 'Arborio' -> 0, 'Basmati' -> 1)."
   ]
  },
  {
   "cell_type": "code",
   "execution_count": null,
   "metadata": {
    "colab": {
     "base_uri": "https://localhost:8080/",
     "height": 292,
     "referenced_widgets": [
      "bce3cc36a7d64ddead0ee2d743301d67",
      "33f17ac45ad048b8b6e983fd6899542a",
      "80c2adbb46c440b4934d1388a222541a",
      "9bd5777307164b14a35dd31fdfe6e218",
      "4101788a835c4a8395b2767e65f3d1c5",
      "6f211f4ef36f40f795656b40488a0341",
      "efb5de09b9604655b9f18b39657ed1d8",
      "f42186e1789a45458a19bb8d05a96ea4",
      "5d4d3d693e0d4685b06503bd81f3dffc",
      "7f33ef344fbc4127b4d4be941e2595b0",
      "8049ed20d45146e086673b24b3989d28"
     ]
    },
    "id": "dblkjmzkjVr6",
    "outputId": "0883f92f-dd55-4f06-c8d2-fb3205d4e4db"
   },
   "outputs": [
    {
     "name": "stdout",
     "output_type": "stream",
     "text": [
      "Searching for all valid image files...\n",
      "Found 75000 images with 5 unique classes.\n"
     ]
    },
    {
     "name": "stdout",
     "output_type": "stream",
     "text": [
      "\n",
      "Dataset created successfully:\n",
      "Dataset({\n",
      "    features: ['image', 'label'],\n",
      "    num_rows: 75000\n",
      "})\n",
      "\n",
      "Dataset Features:\n",
      "{'image': Image(decode=True, id=None), 'label': ClassLabel(names=['Arborio', 'Basmati', 'Ipsala', 'Jasmine', 'Karacadag'], id=None)}\n",
      "\n",
      "Label Mapping:\n",
      "['Arborio', 'Basmati', 'Ipsala', 'Jasmine', 'Karacadag']\n"
     ]
    }
   ],
   "source": [
    "# Define the path to the root directory of the image dataset.\n",
    "main_dataset_dir = '/kaggle/input/rice-image-dataset/Rice_Image_Dataset'\n",
    "\n",
    "print(\"Searching for all valid image files...\")\n",
    "\n",
    "# Use glob to recursively find all file paths ending with .jpg in all subdirectories.\n",
    "image_paths = glob.glob(f'{main_dataset_dir}/**/*.jpg', recursive=True)\n",
    "\n",
    "# Extract the class label for each image from the name of its parent directory.\n",
    "# For example, '/.../Arborio/Arborio (1).jpg' -> 'Arborio'.\n",
    "labels = [os.path.basename(os.path.dirname(p)) for p in image_paths]\n",
    "\n",
    "print(f\"Found {len(image_paths)} images with {len(set(labels))} unique classes.\")\n",
    "\n",
    "# Create a dictionary to structure the data with 'image' and 'label' columns.\n",
    "dataset_dict = {\n",
    "    'image': image_paths,\n",
    "    'label': labels\n",
    "}\n",
    "\n",
    "# Create a Hugging Face Dataset object from the Python dictionary.\n",
    "dataset = Dataset.from_dict(dataset_dict)\n",
    "\n",
    "# --- Prepare the dataset for model training ---\n",
    "\n",
    "# Cast the 'image' column from file paths (strings) into actual image data.\n",
    "dataset = dataset.cast_column(\"image\", Image())\n",
    "\n",
    "# Encode the 'label' column from strings (e.g., 'Arborio') to integers (e.g., 0).\n",
    "dataset = dataset.class_encode_column(\"label\")\n",
    "\n",
    "\n",
    "# --- Display the final result ---\n",
    "print(\"\\nDataset created successfully:\")\n",
    "print(dataset)\n",
    "\n",
    "print(\"\\nDataset Features:\")\n",
    "# Show the data types of each column (e.g., 'image' is now Image, 'label' is ClassLabel).\n",
    "print(dataset.features)\n",
    "\n",
    "print(\"\\nLabel Mapping:\")\n",
    "# Display the mapping from integer class back to the original string label.\n",
    "print(dataset.features['label'].names)\n"
   ]
  },
  {
   "cell_type": "code",
   "execution_count": null,
   "metadata": {
    "colab": {
     "base_uri": "https://localhost:8080/"
    },
    "id": "eOsLM7CMq0ND",
    "outputId": "ccaaf4ac-2f6a-4e7b-99e7-3d8af2ca5320"
   },
   "outputs": [
    {
     "data": {
      "text/plain": [
       "(75000, 2)"
      ]
     },
     "execution_count": 5,
     "metadata": {},
     "output_type": "execute_result"
    }
   ],
   "source": [
    "dataset.shape"
   ]
  },
  {
   "cell_type": "code",
   "execution_count": null,
   "metadata": {
    "colab": {
     "base_uri": "https://localhost:8080/"
    },
    "id": "5SWfC9gWrDIY",
    "outputId": "973a3902-5cb2-4412-85a3-5580fae944e0"
   },
   "outputs": [
    {
     "data": {
      "text/plain": [
       "{'image': <PIL.JpegImagePlugin.JpegImageFile image mode=RGB size=250x250>,\n",
       " 'label': 4}"
      ]
     },
     "execution_count": 6,
     "metadata": {},
     "output_type": "execute_result"
    }
   ],
   "source": [
    "dataset[1]"
   ]
  },
  {
   "cell_type": "markdown",
   "metadata": {
    "id": "tdAW5vtku4O0"
   },
   "source": [
    "This code splits the full dataset into two subsets: 80% of the data is allocated for training the model (train_dataset), and the remaining 20% is set aside for testing its performance (test_dataset)."
   ]
  },
  {
   "cell_type": "code",
   "execution_count": null,
   "metadata": {
    "colab": {
     "base_uri": "https://localhost:8080/"
    },
    "id": "qUFFrNhRrdWF",
    "outputId": "6593b08a-5b46-451a-d22d-6aa7e43df0c4"
   },
   "outputs": [
    {
     "name": "stdout",
     "output_type": "stream",
     "text": [
      "Training dataset info:\n",
      "Dataset({\n",
      "    features: ['image', 'label'],\n",
      "    num_rows: 60000\n",
      "})\n",
      "\n",
      "Testing dataset info:\n",
      "Dataset({\n",
      "    features: ['image', 'label'],\n",
      "    num_rows: 15000\n",
      "})\n"
     ]
    }
   ],
   "source": [
    "# Split the dataset, allocating 80% for training and 20% for testing.\n",
    "train_test_split = dataset.train_test_split(test_size=0.2)\n",
    "\n",
    "# Extract the 'train' and 'test' portions into their own separate variables.\n",
    "train_dataset = train_test_split['train']\n",
    "test_dataset = train_test_split['test']\n",
    "\n",
    "# --- Display information about the new datasets ---\n",
    "print(\"Training dataset info:\")\n",
    "print(train_dataset)\n",
    "\n",
    "print(\"\\nTesting dataset info:\")\n",
    "print(test_dataset)"
   ]
  },
  {
   "cell_type": "markdown",
   "metadata": {
    "id": "lmmGqenou8yz"
   },
   "source": [
    "This is the main data transformation step.\n",
    "\n",
    "1. A function process_to_numpy is defined to take a single image, convert it to a TensorFlow tensor, resize it to a smaller 32x32 pixel dimension, and normalize its pixel values to a range of 0 to 1 by dividing by 255.0.\n",
    "\n",
    "2. The code then iterates through the train_dataset and test_dataset. For each image, it applies the process_to_numpy function.\n",
    "\n",
    "3. The processed image arrays and their corresponding labels are collected into lists.\n",
    "\n",
    "4. Finally, np.array() is used to convert these lists into large, multi-dimensional NumPy arrays (x_train, y_train, x_test, y_test), which is the standard format for training models in Keras."
   ]
  },
  {
   "cell_type": "code",
   "execution_count": null,
   "metadata": {
    "colab": {
     "base_uri": "https://localhost:8080/",
     "height": 237,
     "referenced_widgets": [
      "143056bb1b9a430c85a847a987909503",
      "58c4af15f84343f7a4b81ed8d3817926",
      "b9758408f868454aba3392367a224d16",
      "9aac4afa022a49cf822667475752576c",
      "b5a96e6f55f04aafa6485ecf30831772",
      "925b8b403d3349fdb6b6b579d67edceb",
      "0609d40b19174e72b80faaf3a9a6d3e7",
      "fc49fd90a70d452b948f04803e3c3ea0",
      "cae042e47bb147918854dae8a33cbfc0",
      "4dc96063e49b46eba5f0a8cc3bdf6cdd",
      "c681103772a24c1986b338324df7e0f9",
      "6dc6346cedc8469f9e6c46224e88faab",
      "e3187e3846c64007996e9f706aaaed2e",
      "55a4f81c257f479393436e67516cc942",
      "aad3050ddf2f43dc90ed61d519e19ee4",
      "441acc0d938e427d9d0b4740607e10a2",
      "7783d8fc51f447498bf5ca3a7e73b697",
      "4e0372335d134d2fa456d3786dce32d3",
      "35988ba48e3e4c82a42f34536c8fd84c",
      "a03be10067d640a6822a3aff9aa7b17f",
      "1ce762201dec4e39b79b953a739e9ff4",
      "68f0f4fdcb6c409a888e0436e645a1ac"
     ]
    },
    "id": "3gIq1OpysBTs",
    "outputId": "c0efaece-53cb-4229-8b68-10b7cecd2f08"
   },
   "outputs": [
    {
     "name": "stdout",
     "output_type": "stream",
     "text": [
      "Processing training data\n"
     ]
    },
    {
     "name": "stdout",
     "output_type": "stream",
     "text": [
      "\n",
      "Processing testing data\n"
     ]
    },
    {
     "name": "stdout",
     "output_type": "stream",
     "text": [
      "\n",
      "Concatenating arrays...\n",
      "\n",
      "--- Verification ---\n",
      "x_train shape: (60000, 32, 32, 3)\n",
      "y_train shape: (60000,)\n"
     ]
    }
   ],
   "source": [
    "def process_image(image_tensor, target_size):\n",
    "    \"\"\"\n",
    "    Resizes and normalizes a single image tensor.\n",
    "\n",
    "    Args:\n",
    "        image_tensor (tf.Tensor): The input image as a TensorFlow tensor.\n",
    "        target_size (int): The target height and width for the output image.\n",
    "\n",
    "    Returns:\n",
    "        tf.Tensor: The processed image tensor.\n",
    "    \"\"\"\n",
    "    # Cast the image data type to float32 for calculations.\n",
    "    image_tensor_float = tf.cast(image_tensor, tf.float32)\n",
    "\n",
    "    # Resize the image to the specified square dimensions.\n",
    "    resized_image = tf.image.resize(image_tensor_float, [target_size, target_size])\n",
    "\n",
    "    # Normalize pixel values from the [0, 255] range to the [0, 1] range.\n",
    "    normalized_image = resized_image / 255.0\n",
    "\n",
    "    return normalized_image\n",
    "\n",
    "# --- Step 1: Initialize variables and lists ---\n",
    "\n",
    "# Define the target size for all images.\n",
    "TARGET_SIZE = 32\n",
    "\n",
    "# Create empty lists to hold the processed images and labels.\n",
    "x_train_list = []\n",
    "y_train_list = [example['label'] for example in train_dataset]\n",
    "x_test_list = []\n",
    "y_test_list = [example['label'] for example in test_dataset]\n",
    "\n",
    "# --- Step 2: Process the image datasets ---\n",
    "\n",
    "print(\"Processing training data...\")\n",
    "# Loop through each example in the training dataset.\n",
    "for example in tqdm(train_dataset):\n",
    "    # Convert the input image to a TensorFlow tensor.\n",
    "    image_as_tensor = tf.convert_to_tensor(example['image'])\n",
    "\n",
    "    # Resize and normalize the image tensor using the helper function.\n",
    "    processed_image = process_image(image_as_tensor, TARGET_SIZE)\n",
    "\n",
    "    # Convert the final tensor to a NumPy array and add it to the list.\n",
    "    x_train_list.append(processed_image.numpy())\n",
    "\n",
    "print(\"\\nProcessing testing data...\")\n",
    "# Loop through each example in the testing dataset.\n",
    "for example in tqdm(test_dataset):\n",
    "    # Convert the input image to a TensorFlow tensor.\n",
    "    image_as_tensor = tf.convert_to_tensor(example['image'])\n",
    "\n",
    "    # Resize and normalize the image tensor.\n",
    "    processed_image = process_image(image_as_tensor, TARGET_SIZE)\n",
    "\n",
    "    # Convert the final tensor to a NumPy array and add it to the list.\n",
    "    x_test_list.append(processed_image.numpy())\n",
    "\n",
    "# --- Step 3: Convert lists into single NumPy arrays ---\n",
    "print(\"\\nConverting lists to NumPy arrays...\")\n",
    "# Stack the lists of images and labels into large, contiguous NumPy arrays.\n",
    "x_train = np.array(x_train_list)\n",
    "y_train = np.array(y_train_list)\n",
    "x_test = np.array(x_test_list)\n",
    "y_test = np.array(y_test_list)\n",
    "\n",
    "# --- Step 4: Verify the final shapes ---\n",
    "print(\"\\n--- Verification ---\")\n",
    "# Check the dimensions of the final arrays to ensure they are correct for model input.\n",
    "print(f\"x_train shape: {x_train.shape}\")\n",
    "print(f\"y_train shape: {y_train.shape}\")\n",
    "print(f\"x_test shape: {x_test.shape}\")\n",
    "print(f\"y_test shape: {y_test.shape}\")\n"
   ]
  },
  {
   "cell_type": "code",
   "execution_count": null,
   "metadata": {
    "colab": {
     "base_uri": "https://localhost:8080/"
    },
    "id": "v8_S1JCreOeD",
    "outputId": "f51e9e6c-3c42-4e4a-c3c0-4817737c2491"
   },
   "outputs": [
    {
     "name": "stdout",
     "output_type": "stream",
     "text": [
      "x_train shape: (60000, 32, 32, 3)\n",
      "60000 train samples\n",
      "15000 test samples\n"
     ]
    }
   ],
   "source": [
    "print('x_train shape:', x_train.shape)\n",
    "print(x_train.shape[0], 'train samples')\n",
    "print(x_test.shape[0], 'test samples')"
   ]
  },
  {
   "cell_type": "code",
   "execution_count": null,
   "metadata": {
    "colab": {
     "base_uri": "https://localhost:8080/"
    },
    "id": "KtJUlRU0egxs",
    "outputId": "d44fdcaf-5f9e-4ad5-e648-6a44f1865c24"
   },
   "outputs": [
    {
     "name": "stdout",
     "output_type": "stream",
     "text": [
      "y_train shape: (60000,)\n",
      "60000 train samples\n",
      "15000 test samples\n"
     ]
    }
   ],
   "source": [
    "print('y_train shape:', y_train.shape)\n",
    "print(y_train.shape[0], 'train samples')\n",
    "print(y_test.shape[0], 'test samples')"
   ]
  },
  {
   "cell_type": "code",
   "execution_count": null,
   "metadata": {
    "colab": {
     "base_uri": "https://localhost:8080/"
    },
    "id": "27stqyUwhTBh",
    "outputId": "eb6f6182-03c7-43e5-9021-3fd9a84723bd"
   },
   "outputs": [
    {
     "name": "stdout",
     "output_type": "stream",
     "text": [
      "[[[0.         0.         0.        ]\n",
      "  [0.         0.         0.        ]\n",
      "  [0.         0.         0.        ]\n",
      "  ...\n",
      "  [0.         0.         0.        ]\n",
      "  [0.         0.         0.        ]\n",
      "  [0.         0.         0.        ]]\n",
      "\n",
      " [[0.         0.         0.        ]\n",
      "  [0.         0.         0.        ]\n",
      "  [0.         0.         0.        ]\n",
      "  ...\n",
      "  [0.         0.         0.        ]\n",
      "  [0.         0.         0.        ]\n",
      "  [0.         0.         0.        ]]\n",
      "\n",
      " [[0.00784314 0.00784314 0.00784314]\n",
      "  [0.00784314 0.00784314 0.00784314]\n",
      "  [0.00392157 0.00392157 0.00392157]\n",
      "  ...\n",
      "  [0.         0.         0.        ]\n",
      "  [0.         0.         0.        ]\n",
      "  [0.         0.         0.        ]]\n",
      "\n",
      " ...\n",
      "\n",
      " [[0.         0.         0.        ]\n",
      "  [0.         0.         0.        ]\n",
      "  [0.         0.         0.        ]\n",
      "  ...\n",
      "  [0.         0.         0.        ]\n",
      "  [0.         0.         0.        ]\n",
      "  [0.         0.         0.        ]]\n",
      "\n",
      " [[0.         0.         0.        ]\n",
      "  [0.         0.         0.        ]\n",
      "  [0.         0.         0.        ]\n",
      "  ...\n",
      "  [0.         0.         0.        ]\n",
      "  [0.         0.         0.        ]\n",
      "  [0.         0.         0.        ]]\n",
      "\n",
      " [[0.         0.         0.        ]\n",
      "  [0.         0.         0.        ]\n",
      "  [0.         0.         0.        ]\n",
      "  ...\n",
      "  [0.00392157 0.00392157 0.00392157]\n",
      "  [0.         0.         0.        ]\n",
      "  [0.         0.         0.        ]]]\n"
     ]
    }
   ],
   "source": [
    "print(x_train[454])"
   ]
  },
  {
   "cell_type": "code",
   "execution_count": null,
   "metadata": {
    "colab": {
     "base_uri": "https://localhost:8080/",
     "height": 447
    },
    "id": "MwwMEn7KemLp",
    "outputId": "2b001b55-809f-4581-d884-d1a5fdf754f2"
   },
   "outputs": [
    {
     "name": "stdout",
     "output_type": "stream",
     "text": [
      "3\n"
     ]
    },
    {
     "data": {
      "image/png": "[encoded data removed]",
      "text/plain": [
       "<Figure size 640x480 with 1 Axes>"
      ]
     },
     "metadata": {},
     "output_type": "display_data"
    }
   ],
   "source": [
    "print(y_train[454])\n",
    "plt.imshow(x_train[454]);"
   ]
  },
  {
   "cell_type": "code",
   "execution_count": null,
   "metadata": {
    "colab": {
     "base_uri": "https://localhost:8080/"
    },
    "id": "oXoTitaZe1jC",
    "outputId": "c06e9e93-db37-45ff-ab50-741e2afb2c3a"
   },
   "outputs": [
    {
     "name": "stdout",
     "output_type": "stream",
     "text": [
      "[0 1 2 3 4]\n"
     ]
    }
   ],
   "source": [
    "print(np.unique(y_train))"
   ]
  },
  {
   "cell_type": "code",
   "execution_count": null,
   "metadata": {
    "id": "gxWXewUmgypb"
   },
   "outputs": [],
   "source": [
    "# Define the total number of unique classes for the output layer.\n",
    "num_classes = 5\n",
    "\n",
    "# Convert the integer labels (e.g., 2) into a one-hot encoded format (e.g., [0, 0, 1, 0, 0]).\n",
    "# This binary matrix format is required for categorical classification models.\n",
    "y_train = keras.utils.to_categorical(y_train, num_classes)\n",
    "y_test = keras.utils.to_categorical(y_test, num_classes)"
   ]
  },
  {
   "cell_type": "code",
   "execution_count": null,
   "metadata": {
    "colab": {
     "base_uri": "https://localhost:8080/"
    },
    "id": "kWVOjcP-g53O",
    "outputId": "8257a632-756c-43e1-c238-2ef179cf4796"
   },
   "outputs": [
    {
     "data": {
      "text/plain": [
       "array([0., 0., 0., 1., 0.])"
      ]
     },
     "execution_count": 15,
     "metadata": {},
     "output_type": "execute_result"
    }
   ],
   "source": [
    "y_train[454]"
   ]
  },
  {
   "cell_type": "code",
   "execution_count": null,
   "metadata": {
    "colab": {
     "base_uri": "https://localhost:8080/"
    },
    "id": "6IXxwA9qg-92",
    "outputId": "01269604-0962-47ea-e2d5-cbe7938f0613"
   },
   "outputs": [
    {
     "data": {
      "text/plain": [
       "(60000, 5)"
      ]
     },
     "execution_count": 16,
     "metadata": {},
     "output_type": "execute_result"
    }
   ],
   "source": [
    "y_train.shape"
   ]
  },
  {
   "cell_type": "code",
   "execution_count": null,
   "metadata": {
    "colab": {
     "base_uri": "https://localhost:8080/"
    },
    "id": "PlSlANffhcW3",
    "outputId": "6a547887-6a43-441a-f1db-e217ebb62950"
   },
   "outputs": [
    {
     "name": "stdout",
     "output_type": "stream",
     "text": [
      "[[[0.         0.         0.        ]\n",
      "  [0.         0.         0.        ]\n",
      "  [0.         0.         0.        ]\n",
      "  ...\n",
      "  [0.         0.         0.        ]\n",
      "  [0.         0.         0.        ]\n",
      "  [0.         0.         0.        ]]\n",
      "\n",
      " [[0.         0.         0.        ]\n",
      "  [0.         0.         0.        ]\n",
      "  [0.         0.         0.        ]\n",
      "  ...\n",
      "  [0.         0.         0.        ]\n",
      "  [0.         0.         0.        ]\n",
      "  [0.         0.         0.        ]]\n",
      "\n",
      " [[0.00784314 0.00784314 0.00784314]\n",
      "  [0.00784314 0.00784314 0.00784314]\n",
      "  [0.00392157 0.00392157 0.00392157]\n",
      "  ...\n",
      "  [0.         0.         0.        ]\n",
      "  [0.         0.         0.        ]\n",
      "  [0.         0.         0.        ]]\n",
      "\n",
      " ...\n",
      "\n",
      " [[0.         0.         0.        ]\n",
      "  [0.         0.         0.        ]\n",
      "  [0.         0.         0.        ]\n",
      "  ...\n",
      "  [0.         0.         0.        ]\n",
      "  [0.         0.         0.        ]\n",
      "  [0.         0.         0.        ]]\n",
      "\n",
      " [[0.         0.         0.        ]\n",
      "  [0.         0.         0.        ]\n",
      "  [0.         0.         0.        ]\n",
      "  ...\n",
      "  [0.         0.         0.        ]\n",
      "  [0.         0.         0.        ]\n",
      "  [0.         0.         0.        ]]\n",
      "\n",
      " [[0.         0.         0.        ]\n",
      "  [0.         0.         0.        ]\n",
      "  [0.         0.         0.        ]\n",
      "  ...\n",
      "  [0.00392157 0.00392157 0.00392157]\n",
      "  [0.         0.         0.        ]\n",
      "  [0.         0.         0.        ]]]\n"
     ]
    }
   ],
   "source": [
    "print(x_train[454])"
   ]
  },
  {
   "cell_type": "markdown",
   "metadata": {
    "id": "LnipsQDUuJX7"
   },
   "source": [
    "# Building Model"
   ]
  },
  {
   "cell_type": "markdown",
   "metadata": {
    "id": "Xsvc5hTevU-o"
   },
   "source": [
    "This section contains the definitions for the three different CNN architectures that will be compared. Each model is defined as a Python function that returns a compiled Keras model. All architectures are adapted to work with the `32x32` input image size."
   ]
  },
  {
   "cell_type": "markdown",
   "metadata": {
    "id": "PTj0qj6Ou7gB"
   },
   "source": [
    "## Alexnet Architecture"
   ]
  },
  {
   "cell_type": "markdown",
   "metadata": {
    "id": "bbsY0uDxvY7c"
   },
   "source": [
    "This function defines a simplified, \"mini\" version of the famous AlexNet architecture. It consists of three convolutional blocks (Conv2D + MaxPooling2D) to extract features, followed by a `Flatten` layer and a `Dense` (fully connected) layer for classification. `Dropout` is included to prevent overfitting.\n"
   ]
  },
  {
   "cell_type": "code",
   "execution_count": null,
   "metadata": {
    "id": "_RxHi2H8uOHS"
   },
   "outputs": [],
   "source": [
    "def alexnet(input_shape, num_classes):\n",
    "    \"\"\"\n",
    "    Builds a simplified, modern version of the AlexNet architecture,\n",
    "    adapted for smaller images (e.g., 32x32).\n",
    "    \"\"\"\n",
    "    model = Sequential([\n",
    "        # --- Convolutional Base for Feature Extraction ---\n",
    "\n",
    "        # 1st Convolutional Block\n",
    "        Conv2D(filters=32, kernel_size=(3, 3), activation='relu', input_shape=input_shape, padding='same'),\n",
    "        MaxPooling2D(pool_size=(2, 2)), # Downsamples feature map size by half.\n",
    "\n",
    "        # 2nd Convolutional Block\n",
    "        Conv2D(filters=64, kernel_size=(3, 3), padding='same', activation='relu'),\n",
    "        MaxPooling2D(pool_size=(2, 2)),\n",
    "\n",
    "        # 3rd Convolutional Block\n",
    "        Conv2D(filters=128, kernel_size=(3, 3), padding='same', activation='relu'),\n",
    "        MaxPooling2D(pool_size=(2, 2)),\n",
    "\n",
    "        # --- Classifier Head ---\n",
    "\n",
    "        # Flatten the 3D feature maps from the conv blocks into a 1D vector.\n",
    "        Flatten(),\n",
    "\n",
    "        # A fully-connected layer to learn complex patterns from the extracted features.\n",
    "        Dense(512, activation='relu'),\n",
    "\n",
    "        # Dropout regularization to help prevent overfitting.\n",
    "        Dropout(0.5),\n",
    "\n",
    "        # The final output layer with a neuron for each class.\n",
    "        # 'softmax' activation provides class probabilities.\n",
    "        Dense(num_classes, activation='softmax')\n",
    "\n",
    "    ], name=\"AlexNet\") # Naming the model for clarity.\n",
    "\n",
    "    return model"
   ]
  },
  {
   "cell_type": "markdown",
   "metadata": {
    "id": "iRk3pp1d6RUt"
   },
   "source": [
    "## VGG Architecture"
   ]
  },
  {
   "cell_type": "markdown",
   "metadata": {
    "id": "gjYZ0Z4tvaJt"
   },
   "source": [
    "This function defines a network inspired by the VGG architecture, known for its simplicity of using stacked 3x3 convolutional layers. This \"mini-VGG\" has three blocks of two Conv2D layers followed by a MaxPooling2D layer. This structure allows the network to learn more complex features before downsampling."
   ]
  },
  {
   "cell_type": "code",
   "execution_count": null,
   "metadata": {
    "id": "ACRPgWjY6cAK"
   },
   "outputs": [],
   "source": [
    "def vgg16(input_shape, num_classes):\n",
    "    \"\"\"\n",
    "    Builds a simplified VGG-style Convolutional Neural Network.\n",
    "    Note: This is a custom, smaller version inspired by VGG, not the original VGG-16.\n",
    "    \"\"\"\n",
    "    model = Sequential([\n",
    "        # --- Convolutional Base ---\n",
    "\n",
    "        # Block 1: Two convolutional layers followed by a max-pooling layer.\n",
    "        # Extracts low-level features like edges and corners.\n",
    "        Conv2D(32, (3, 3), activation='relu', padding='same', input_shape=input_shape),\n",
    "        Conv2D(32, (3, 3), activation='relu', padding='same'),\n",
    "        MaxPooling2D((2, 2)), # Downsamples the feature map, reducing its size by half.\n",
    "\n",
    "        # Block 2: Increases filter depth to learn more complex features.\n",
    "        Conv2D(64, (3, 3), activation='relu', padding='same'),\n",
    "        Conv2D(64, (3, 3), activation='relu', padding='same'),\n",
    "        MaxPooling2D((2, 2)),\n",
    "\n",
    "        # Block 3: Further increases filter depth.\n",
    "        Conv2D(128, (3, 3), activation='relu', padding='same'),\n",
    "        Conv2D(128, (3, 3), activation='relu', padding='same'),\n",
    "        MaxPooling2D((2, 2)),\n",
    "\n",
    "        # --- Classifier Head ---\n",
    "\n",
    "        # Flattens the 3D output from the conv blocks into a 1D vector.\n",
    "        Flatten(),\n",
    "\n",
    "        # A fully-connected layer to learn high-level patterns from the flattened features.\n",
    "        Dense(512, activation='relu'),\n",
    "\n",
    "        # Dropout regularization to prevent overfitting by randomly ignoring 50% of neurons during training.\n",
    "        Dropout(0.5),\n",
    "\n",
    "        # The final output layer. 'softmax' activation outputs a probability for each class.\n",
    "        Dense(num_classes, activation='softmax')\n",
    "\n",
    "    ], name=\"VGG16\") # Give the model a descriptive name.\n",
    "\n",
    "    return model"
   ]
  },
  {
   "cell_type": "markdown",
   "metadata": {
    "id": "DLNb574g6g5O"
   },
   "source": [
    "## ResNet Architecture"
   ]
  },
  {
   "cell_type": "markdown",
   "metadata": {
    "id": "6BZkDV5Yvk-o"
   },
   "source": [
    "This function builds a model using the powerful, pre-defined ResNet-50 architecture from tensorflow.keras.applications.\n",
    "\n",
    "  - include_top=False removes the original final classification layer, allowing us to add our own.\n",
    "\n",
    "  - weights=None means the model is initialized with random weights and will be trained from scratch on our rice dataset.\n",
    "\n",
    "  - A GlobalAveragePooling2D layer is added to reduce the feature map dimensions, followed by a final Dense layer for our 5-class classification task."
   ]
  },
  {
   "cell_type": "code",
   "execution_count": null,
   "metadata": {
    "id": "6n9DWqL66xWR"
   },
   "outputs": [],
   "source": [
    "def resnet50_keras(input_shape, num_classes):\n",
    "    \"\"\"\n",
    "    Builds a Keras model using the pre-built ResNet50 architecture,\n",
    "    customized for a specific number of classes and trained from scratch.\n",
    "    \"\"\"\n",
    "    # Load the ResNet50 convolutional base model.\n",
    "    # 'include_top=False' removes the original final classification layer.\n",
    "    # 'weights=None' initializes the model with random weights for training from scratch.\n",
    "    base_model = ResNet50(\n",
    "        include_top=False,      # Exclude the final ImageNet classifier\n",
    "        weights=None,           # Start with random weights\n",
    "        input_shape=input_shape # Set the input shape for our images\n",
    "    )\n",
    "\n",
    "    # Create a new Sequential model to add our custom classifier.\n",
    "    model = Sequential([\n",
    "        # 1. Start with the ResNet50 base for feature extraction.\n",
    "        base_model,\n",
    "\n",
    "        # 2. Apply Global Average Pooling to flatten the feature maps from the base model.\n",
    "        # This converts the 4D output of the conv base into a 2D vector.\n",
    "        GlobalAveragePooling2D(),\n",
    "\n",
    "        # 3. Add the final classification layer (the \"head\").\n",
    "        # It has one output neuron for each class and uses 'softmax' to output probabilities.\n",
    "        Dense(num_classes, activation='softmax')\n",
    "\n",
    "    ], name=\"ResNet50_Custom\") # Give the model a descriptive name.\n",
    "\n",
    "    return model"
   ]
  },
  {
   "cell_type": "markdown",
   "metadata": {
    "id": "udiOSxVl7M75"
   },
   "source": [
    "# Training Model"
   ]
  },
  {
   "cell_type": "markdown",
   "metadata": {
    "id": "FVvVoJUlvrOu"
   },
   "source": [
    "This is the main execution block where the models are trained and their performance is recorded.\n",
    "\n",
    "1. A dictionary models is created, which calls the build functions to initialize each of the three architectures.\n",
    "\n",
    "2. An empty dictionary training_histories is created to store the results of each training run.\n",
    "\n",
    "3. The code then loops through the models dictionary. In each iteration:\n",
    "\n",
    "   - It defines the training hyperparameters (like learning rate, optimizer, loss function, epochs, and batch size).\n",
    "\n",
    "  - It compiles the model, configuring it for training.\n",
    "\n",
    "  - It calls model.fit(), passing the training data (x_train, y_train) and validation data (x_test, y_test). This starts the training process for 3 epochs.\n",
    "\n",
    "4. The results (loss, accuracy, etc.) from the training run are stored in the training_histories dictionary."
   ]
  },
  {
   "cell_type": "code",
   "execution_count": null,
   "metadata": {
    "id": "mc6y8OUyuRsU"
   },
   "outputs": [],
   "source": [
    "INPUT_SHAPE = (32, 32, 3)\n",
    "NUM_CLASSES = 5"
   ]
  },
  {
   "cell_type": "code",
   "execution_count": null,
   "metadata": {
    "colab": {
     "base_uri": "https://localhost:8080/"
    },
    "id": "G35V5Ua59Kaz",
    "outputId": "785c0779-303e-4339-ce24-7db28524a621"
   },
   "outputs": [
    {
     "name": "stdout",
     "output_type": "stream",
     "text": [
      "--- Training Model: AlexNet ---\n",
      "Epoch 1/3\n",
      "\u001b[1m469/469\u001b[0m \u001b[32m━━━━━━━━━━━━━━━━━━━━\u001b[0m\u001b[37m\u001b[0m \u001b[1m47s\u001b[0m 92ms/step - accuracy: 0.8615 - loss: 0.3562 - val_accuracy: 0.9635 - val_loss: 0.1023\n",
      "Epoch 2/3\n",
      "\u001b[1m469/469\u001b[0m \u001b[32m━━━━━━━━━━━━━━━━━━━━\u001b[0m\u001b[37m\u001b[0m \u001b[1m78s\u001b[0m 93ms/step - accuracy: 0.9722 - loss: 0.0809 - val_accuracy: 0.9755 - val_loss: 0.0749\n",
      "Epoch 3/3\n",
      "\u001b[1m469/469\u001b[0m \u001b[32m━━━━━━━━━━━━━━━━━━━━\u001b[0m\u001b[37m\u001b[0m \u001b[1m80s\u001b[0m 90ms/step - accuracy: 0.9771 - loss: 0.0663 - val_accuracy: 0.9749 - val_loss: 0.0707\n",
      "--- Finished training AlexNet ---\n",
      "\n",
      "--- Training Model: VGG-16 ---\n",
      "Epoch 1/3\n",
      "\u001b[1m469/469\u001b[0m \u001b[32m━━━━━━━━━━━━━━━━━━━━\u001b[0m\u001b[37m\u001b[0m \u001b[1m59s\u001b[0m 126ms/step - accuracy: 0.8301 - loss: 0.4099 - val_accuracy: 0.9653 - val_loss: 0.1033\n",
      "Epoch 2/3\n",
      "\u001b[1m469/469\u001b[0m \u001b[32m━━━━━━━━━━━━━━━━━━━━\u001b[0m\u001b[37m\u001b[0m \u001b[1m83s\u001b[0m 129ms/step - accuracy: 0.9655 - loss: 0.1037 - val_accuracy: 0.9735 - val_loss: 0.0804\n",
      "Epoch 3/3\n",
      "\u001b[1m469/469\u001b[0m \u001b[32m━━━━━━━━━━━━━━━━━━━━\u001b[0m\u001b[37m\u001b[0m \u001b[1m59s\u001b[0m 126ms/step - accuracy: 0.9772 - loss: 0.0677 - val_accuracy: 0.9808 - val_loss: 0.0559\n",
      "--- Finished training VGG-16 ---\n",
      "\n",
      "--- Training Model: ResNet-50 ---\n",
      "Epoch 1/3\n",
      "\u001b[1m469/469\u001b[0m \u001b[32m━━━━━━━━━━━━━━━━━━━━\u001b[0m\u001b[37m\u001b[0m \u001b[1m789s\u001b[0m 2s/step - accuracy: 0.8836 - loss: 0.4112 - val_accuracy: 0.5495 - val_loss: 2.5942\n",
      "Epoch 2/3\n",
      "\u001b[1m469/469\u001b[0m \u001b[32m━━━━━━━━━━━━━━━━━━━━\u001b[0m\u001b[37m\u001b[0m \u001b[1m780s\u001b[0m 2s/step - accuracy: 0.9781 - loss: 0.0662 - val_accuracy: 0.9595 - val_loss: 0.1260\n",
      "Epoch 3/3\n",
      "\u001b[1m469/469\u001b[0m \u001b[32m━━━━━━━━━━━━━━━━━━━━\u001b[0m\u001b[37m\u001b[0m \u001b[1m763s\u001b[0m 2s/step - accuracy: 0.9838 - loss: 0.0493 - val_accuracy: 0.9803 - val_loss: 0.0622\n",
      "--- Finished training ResNet-50 ---\n",
      "\n"
     ]
    }
   ],
   "source": [
    "# --- Sequential Training Process ---\n",
    "\n",
    "# --- Step 1: Define Models and History Storage ---\n",
    "\n",
    "# Create a dictionary to hold the initialized model architectures.\n",
    "# This allows us to easily loop through and train each one.\n",
    "models = {\n",
    "    \"AlexNet\": alexnet(INPUT_SHAPE, NUM_CLASSES),\n",
    "    \"VGG-16\": vgg16(INPUT_SHAPE, NUM_CLASSES),\n",
    "    \"ResNet-50\": resnet50_keras(INPUT_SHAPE, NUM_CLASSES)\n",
    "}\n",
    "\n",
    "# Create an empty dictionary to store the training history (loss, accuracy, etc.) for each model.\n",
    "training_histories = {}\n",
    "\n",
    "\n",
    "# --- Step 2: Loop Through and Train Each Model ---\n",
    "\n",
    "# Iterate through each model's name and its corresponding object in the dictionary.\n",
    "for name, model in models.items():\n",
    "    # Note: Eager execution is useful for debugging but significantly slows down training.\n",
    "    # It's generally disabled for performance.\n",
    "    tf.config.run_functions_eagerly(True)\n",
    "\n",
    "    print(f\"--- Training Model: {name} ---\")\n",
    "\n",
    "    # --- Define Hyperparameters ---\n",
    "\n",
    "    # Optimizer settings: We use Adam, a common and effective optimizer.\n",
    "    LEARNING_RATE = 0.001\n",
    "    OPTIMIZER = tf.keras.optimizers.Adam(learning_rate=LEARNING_RATE)\n",
    "\n",
    "    # Loss function and metrics for evaluating the model.\n",
    "    # 'categorical_crossentropy' is used because our labels are one-hot encoded.\n",
    "    LOSS_FUNCTION = 'categorical_crossentropy'\n",
    "    METRICS = ['accuracy']\n",
    "\n",
    "    # Training process settings.\n",
    "    EPOCHS = 3          # Number of passes through the entire training dataset.\n",
    "    BATCH_SIZE = 128    # Number of samples processed in each step.\n",
    "\n",
    "    # Define the shape of the input data.\n",
    "    INPUT_SHAPE = (32, 32, 3) # (height, width, color_channels)\n",
    "    NUM_CLASSES = 5           # The number of possible output classes.\n",
    "\n",
    "    # --- Compile the Model ---\n",
    "\n",
    "    # Configure the model for training by specifying the optimizer, loss function, and metrics.\n",
    "    model.compile(\n",
    "        optimizer=OPTIMIZER,\n",
    "        loss=LOSS_FUNCTION,\n",
    "        metrics=METRICS\n",
    "    )\n",
    "\n",
    "    # --- Train the Model ---\n",
    "\n",
    "    # The `fit` method executes the training process.\n",
    "    history = model.fit(\n",
    "        x_train, y_train,                   # Training data and labels\n",
    "        batch_size=BATCH_SIZE,              # Set the batch size\n",
    "        epochs=EPOCHS,                      # Set the number of epochs\n",
    "        validation_data=(x_test, y_test),   # Provide test data for validation after each epoch\n",
    "        verbose=1                           # Show a progress bar during training\n",
    "    )\n",
    "\n",
    "    # --- Store Results ---\n",
    "\n",
    "    # Save the returned history object to our dictionary for later analysis and plotting.\n",
    "    training_histories[name] = history\n",
    "    print(f\"--- Finished training {name} ---\\n\")"
   ]
  },
  {
   "cell_type": "markdown",
   "metadata": {
    "id": "UMecZmtTxg4t"
   },
   "source": [
    "## Summary of Model Training\n",
    "\n",
    "Three distinct variations of CNN models were trained and evaluated to find the best-performing architecture for this task. All models were trained for 3 epochs with a batch size of 128, using the Adam optimizer and categorical_crossentropy loss function for a fair comparison.\n",
    "\n",
    "1. Mini-AlexNet: A simplified, shallower version of the classic AlexNet architecture was implemented. It consisted of three convolutional blocks and one dense layer. This model trained quickly and served as a strong baseline, achieving a peak validation accuracy of 97.55%.\n",
    "\n",
    "2. Mini-VGG: An architecture inspired by VGG's principle of using stacked 3x3 convolutional layers was built. This model, with three convolutional blocks, was able to learn more complex features before downsampling. It demonstrated excellent performance, achieving the highest validation accuracy of the three models at 98.08%.\n",
    "\n",
    "3. ResNet-50 (from scratch): The powerful and very deep ResNet-50 architecture was trained from scratch (with random initial weights). Despite its complexity, it also performed exceptionally well, reaching a peak validation accuracy of 98.03%. However, its training time was significantly longer than the other two models (approximately 13 minutes per epoch compared to ~1 minute for AlexNet/VGG)."
   ]
  },
  {
   "cell_type": "markdown",
   "metadata": {
    "id": "c7c1hejJ9nuZ"
   },
   "source": [
    "# Evaluation"
   ]
  },
  {
   "cell_type": "markdown",
   "metadata": {
    "id": "VnlYQ0Ziv982"
   },
   "source": [
    "This final section is for evaluating and comparing the performance of the trained models."
   ]
  },
  {
   "cell_type": "markdown",
   "metadata": {
    "id": "KXfjk2Xcv5IX"
   },
   "source": [
    "\n",
    "This code generates two plots to visually compare the models.\n",
    "\n",
    "1. It creates a figure with two subplots arranged vertically.\n",
    "\n",
    "2. The top subplot (ax1) plots the validation accuracy (val_accuracy) for each model across the 3 epochs.\n",
    "\n",
    "3. The bottom subplot (ax2) plots the validation loss (val_loss) for each model.\n",
    "This provides a clear, side-by-side comparison of how each model's performance evolved during training."
   ]
  },
  {
   "cell_type": "code",
   "execution_count": null,
   "metadata": {
    "colab": {
     "base_uri": "https://localhost:8080/",
     "height": 1000
    },
    "id": "BrV9VFw390mI",
    "outputId": "34fbe6ff-77c8-4075-cbd2-2a1b8ce06f17"
   },
   "outputs": [
    {
     "data": {
      "image/png": "[encoded data removed]",
      "text/plain": [
       "<Figure size 1400x1600 with 2 Axes>"
      ]
     },
     "metadata": {},
     "output_type": "display_data"
    }
   ],
   "source": [
    "# --- Compare Validation Accuracy and Loss on Separate Plots ---\n",
    "\n",
    "# Create a figure with two subplots, arranged vertically (2 rows, 1 column)\n",
    "# figsize is adjusted to give enough space for two plots.\n",
    "fig, axes = plt.subplots(2, 1, figsize=(14, 16))\n",
    "\n",
    "# --- Plot 1: Validation Accuracy ---\n",
    "ax1 = axes[0] # The first subplot\n",
    "for name, history in training_histories.items():\n",
    "    # Get the validation accuracy from the history object\n",
    "    val_accuracy = history.history['val_accuracy']\n",
    "    # Plot with markers and a specific line style for clarity\n",
    "    ax1.plot(val_accuracy, label=f'{name} Validation Accuracy', marker='o', linestyle='--')\n",
    "\n",
    "ax1.set_title('Model Validation Accuracy Comparison', fontsize=16)\n",
    "ax1.set_ylabel('Accuracy', fontsize=12)\n",
    "ax1.set_xlabel('Epoch', fontsize=12)\n",
    "ax1.legend(loc='lower right')\n",
    "ax1.grid(True)\n",
    "# Optional: Improve x-axis ticks to show integer epochs\n",
    "if training_histories:\n",
    "    num_epochs = len(next(iter(training_histories.values())).history['val_accuracy'])\n",
    "    ax1.set_xticks(np.arange(0, num_epochs, 2)) # Show a tick every 2 epochs\n",
    "    ax1.set_xticklabels(np.arange(1, num_epochs + 1, 2))\n",
    "\n",
    "\n",
    "# --- Plot 2: Validation Loss ---\n",
    "ax2 = axes[1] # The second subplot\n",
    "for name, history in training_histories.items():\n",
    "    # Get the validation loss from the history object\n",
    "    val_loss = history.history['val_loss']\n",
    "    # Plot with different markers and line style\n",
    "    ax2.plot(val_loss, label=f'{name} Validation Loss', marker='s', linestyle='-')\n",
    "\n",
    "ax2.set_title('Model Validation Loss Comparison', fontsize=16)\n",
    "ax2.set_ylabel('Loss', fontsize=12)\n",
    "ax2.set_xlabel('Epoch', fontsize=12)\n",
    "ax2.legend(loc='upper right')\n",
    "ax2.grid(True)\n",
    "# Optional: Improve x-axis ticks for the second plot as well\n",
    "if training_histories:\n",
    "    num_epochs = len(next(iter(training_histories.values())).history['val_loss'])\n",
    "    ax2.set_xticks(np.arange(0, num_epochs, 2))\n",
    "    ax2.set_xticklabels(np.arange(1, num_epochs + 1, 2))\n",
    "\n",
    "\n",
    "# Adjust layout automatically to prevent titles/labels from overlapping\n",
    "plt.tight_layout(pad=3.0)\n",
    "\n",
    "# Display the final figure with both plots\n",
    "plt.show()"
   ]
  },
  {
   "cell_type": "markdown",
   "metadata": {
    "id": "wUq_cQHDwH4P"
   },
   "source": [
    "This code provides a quantitative summary of the results. It iterates through the saved histories and, for each model, finds the single best epoch based on the highest validation accuracy achieved. It then extracts the accuracy, the corresponding loss from that same epoch, and the epoch number. Finally, it uses the pandas library to display this data in a clean, formatted table for easy comparison."
   ]
  },
  {
   "cell_type": "code",
   "execution_count": null,
   "metadata": {
    "colab": {
     "base_uri": "https://localhost:8080/"
    },
    "id": "HjZzVwMM6J1Y",
    "outputId": "4c6c6221-2ea1-4699-a2de-851153682504"
   },
   "outputs": [
    {
     "name": "stdout",
     "output_type": "stream",
     "text": [
      "--- Peak Model Performance Summary ---\n",
      "                   Best Validation Accuracy Loss at Best Epoch  Best Epoch\n",
      "Model Architecture                                                        \n",
      "AlexNet                              0.9755             0.0749           2\n",
      "VGG-16                               0.9808             0.0559           3\n",
      "ResNet-50                            0.9803             0.0622           3\n"
     ]
    }
   ],
   "source": [
    "# Create an empty list to hold the summary data\n",
    "summary_data = []\n",
    "\n",
    "# Loop through each history object to find the best performance\n",
    "for name, history in training_histories.items():\n",
    "    # Find the epoch with the highest validation accuracy\n",
    "    val_acc_list = history.history['val_accuracy']\n",
    "    best_epoch_index = np.argmax(val_acc_list)\n",
    "\n",
    "    # Get the best validation accuracy value\n",
    "    best_val_acc = val_acc_list[best_epoch_index]\n",
    "\n",
    "    # Get the validation loss at the same best epoch\n",
    "    val_loss_at_best_epoch = history.history['val_loss'][best_epoch_index]\n",
    "\n",
    "    # Store the results. Add 1 to the index because epochs are 1-based.\n",
    "    summary_data.append({\n",
    "        \"Model Architecture\": name,\n",
    "        \"Best Validation Accuracy\": f\"{best_val_acc:.4f}\",\n",
    "        \"Loss at Best Epoch\": f\"{val_loss_at_best_epoch:.4f}\",\n",
    "        \"Best Epoch\": best_epoch_index + 1\n",
    "    })\n",
    "\n",
    "# Create a pandas DataFrame for a nice display\n",
    "df_summary = pd.DataFrame(summary_data)\n",
    "\n",
    "# Set the model name as the index for better readability\n",
    "df_summary.set_index(\"Model Architecture\", inplace=True)\n",
    "\n",
    "# Display the final summary table\n",
    "print(\"--- Peak Model Performance Summary ---\")\n",
    "print(df_summary)\n"
   ]
  },
  {
   "cell_type": "markdown",
   "metadata": {
    "id": "f2I7C7dox2_i"
   },
   "source": [
    "## Final Recomendation\n",
    "\n",
    "After evaluating the performance of the three models, the Mini-VGG architecture is the recommended final model. Although ResNet-50 achieved a marginally comparable accuracy, the Mini-VGG model provides a superior balance of performance and efficiency. It reached the highest validation accuracy (98.08%) and had the lowest corresponding validation loss (0.0559), all while training significantly faster than the much larger ResNet-50 model. For a practical business application where both high accuracy and rapid deployment are important, the Mini-VGG model offers the most optimal solution."
   ]
  },
  {
   "cell_type": "markdown",
   "metadata": {
    "id": "1XitwBFvx90L"
   },
   "source": [
    "# Summary of Key Findings and Insights"
   ]
  },
  {
   "cell_type": "markdown",
   "metadata": {
    "id": "pi_nmuYrx_jG"
   },
   "source": [
    "The modeling exercise yielded several important findings:\n",
    "\n",
    "- Feature Importance: The decision to downscale the images to 32x32 proved highly effective. The models' ability to achieve >97% accuracy confirms that the core morphological features (shape and size) of the rice grains are the most critical differentiators, and high-resolution textural details are not necessary for this classification task.\n",
    "\n",
    "- Model Performance: All three adapted CNN architectures performed exceptionally well, demonstrating the suitability of deep learning for this problem. The high accuracies suggest that the classes are visually distinct and can be reliably separated by the models.\n",
    "\n",
    "- Efficiency vs. Complexity: While the very deep ResNet-50 model performed well, its complexity and long training time did not provide a significant accuracy advantage over the much lighter Mini-VGG model. This highlights that for specific, well-defined problems, a simpler, custom-tailored architecture can be more efficient than a larger, more generic one.\n",
    "\n",
    "- Rapid Learning: The models were able to achieve near-peak performance within just 3 epochs, indicating that they learned the distinguishing features of the dataset very quickly"
   ]
  },
  {
   "cell_type": "markdown",
   "metadata": {
    "id": "z4RI_DEGyJCC"
   },
   "source": [
    "# Suggestions for Next Steps"
   ]
  },
  {
   "cell_type": "markdown",
   "metadata": {
    "id": "1_qnVHlSyKiO"
   },
   "source": [
    "While the current model is highly accurate, several avenues could be explored for further improvement and analysis:\n",
    "\n",
    "- Transfer Learning: Instead of training the ResNet-50 model from scratch, initialize it with pre-trained weights from the ImageNet dataset (weights='imagenet'). This technique, known as transfer learning, could potentially boost accuracy even further and reduce training time.\n",
    "\n",
    "- Data Augmentation: To improve model robustness and prevent any potential overfitting if trained for more epochs, data augmentation techniques like random horizontal flips, rotations, and brightness adjustments could be applied to the training set.\n",
    "\n",
    "- Explore Lightweight Architectures: Test other modern, efficient architectures like MobileNet or EfficientNet. These models are designed to provide high accuracy with very low computational cost, making them ideal for deployment on mobile or edge devices.\n",
    "\n",
    "- Hyperparameter Tuning: Conduct a more extensive search for optimal hyperparameters, such as experimenting with different learning rates, batch sizes, or optimizer types, to potentially achieve incremental performance gains.\n",
    "\n",
    "- Deployment: The next logical step for a business application would be to deploy the final recommended model (Mini-VGG) as a web service or API. This would allow it"
   ]
  },
  {
   "cell_type": "markdown",
   "metadata": {
    "id": "t-03d3fEySZK"
   },
   "source": [
    "# @GODER"
   ]
  }
 ],
 "metadata": {
  "accelerator": "GPU",
  "colab": {
   "gpuType": "T4",
   "provenance": []
  },
  "kernelspec": {
   "display_name": "Python 3",
   "name": "python3"
  },
  "language_info": {
   "name": "python"
  },
  "widgets": {
   "application/vnd.jupyter.widget-state+json": {
    "0609d40b19174e72b80faaf3a9a6d3e7": {
     "model_module": "@jupyter-widgets/controls",
     "model_module_version": "1.5.0",
     "model_name": "DescriptionStyleModel",
     "state": {
      "_model_module": "@jupyter-widgets/controls",
      "_model_module_version": "1.5.0",
      "_model_name": "DescriptionStyleModel",
      "_view_count": null,
      "_view_module": "@jupyter-widgets/base",
      "_view_module_version": "1.2.0",
      "_view_name": "StyleView",
      "description_width": ""
     }
    },
    "143056bb1b9a430c85a847a987909503": {
     "model_module": "@jupyter-widgets/controls",
     "model_module_version": "1.5.0",
     "model_name": "HBoxModel",
     "state": {
      "_dom_classes": [],
      "_model_module": "@jupyter-widgets/controls",
      "_model_module_version": "1.5.0",
      "_model_name": "HBoxModel",
      "_view_count": null,
      "_view_module": "@jupyter-widgets/controls",
      "_view_module_version": "1.5.0",
      "_view_name": "HBoxView",
      "box_style": "",
      "children": [
       "IPY_MODEL_58c4af15f84343f7a4b81ed8d3817926",
       "IPY_MODEL_b9758408f868454aba3392367a224d16",
       "IPY_MODEL_9aac4afa022a49cf822667475752576c"
      ],
      "layout": "IPY_MODEL_b5a96e6f55f04aafa6485ecf30831772"
     }
    },
    "1ce762201dec4e39b79b953a739e9ff4": {
     "model_module": "@jupyter-widgets/base",
     "model_module_version": "1.2.0",
     "model_name": "LayoutModel",
     "state": {
      "_model_module": "@jupyter-widgets/base",
      "_model_module_version": "1.2.0",
      "_model_name": "LayoutModel",
      "_view_count": null,
      "_view_module": "@jupyter-widgets/base",
      "_view_module_version": "1.2.0",
      "_view_name": "LayoutView",
      "align_content": null,
      "align_items": null,
      "align_self": null,
      "border": null,
      "bottom": null,
      "display": null,
      "flex": null,
      "flex_flow": null,
      "grid_area": null,
      "grid_auto_columns": null,
      "grid_auto_flow": null,
      "grid_auto_rows": null,
      "grid_column": null,
      "grid_gap": null,
      "grid_row": null,
      "grid_template_areas": null,
      "grid_template_columns": null,
      "grid_template_rows": null,
      "height": null,
      "justify_content": null,
      "justify_items": null,
      "left": null,
      "margin": null,
      "max_height": null,
      "max_width": null,
      "min_height": null,
      "min_width": null,
      "object_fit": null,
      "object_position": null,
      "order": null,
      "overflow": null,
      "overflow_x": null,
      "overflow_y": null,
      "padding": null,
      "right": null,
      "top": null,
      "visibility": null,
      "width": null
     }
    },
    "33f17ac45ad048b8b6e983fd6899542a": {
     "model_module": "@jupyter-widgets/controls",
     "model_module_version": "1.5.0",
     "model_name": "HTMLModel",
     "state": {
      "_dom_classes": [],
      "_model_module": "@jupyter-widgets/controls",
      "_model_module_version": "1.5.0",
      "_model_name": "HTMLModel",
      "_view_count": null,
      "_view_module": "@jupyter-widgets/controls",
      "_view_module_version": "1.5.0",
      "_view_name": "HTMLView",
      "description": "",
      "description_tooltip": null,
      "layout": "IPY_MODEL_6f211f4ef36f40f795656b40488a0341",
      "placeholder": "​",
      "style": "IPY_MODEL_efb5de09b9604655b9f18b39657ed1d8",
      "value": "Casting to class labels: 100%"
     }
    },
    "35988ba48e3e4c82a42f34536c8fd84c": {
     "model_module": "@jupyter-widgets/base",
     "model_module_version": "1.2.0",
     "model_name": "LayoutModel",
     "state": {
      "_model_module": "@jupyter-widgets/base",
      "_model_module_version": "1.2.0",
      "_model_name": "LayoutModel",
      "_view_count": null,
      "_view_module": "@jupyter-widgets/base",
      "_view_module_version": "1.2.0",
      "_view_name": "LayoutView",
      "align_content": null,
      "align_items": null,
      "align_self": null,
      "border": null,
      "bottom": null,
      "display": null,
      "flex": null,
      "flex_flow": null,
      "grid_area": null,
      "grid_auto_columns": null,
      "grid_auto_flow": null,
      "grid_auto_rows": null,
      "grid_column": null,
      "grid_gap": null,
      "grid_row": null,
      "grid_template_areas": null,
      "grid_template_columns": null,
      "grid_template_rows": null,
      "height": null,
      "justify_content": null,
      "justify_items": null,
      "left": null,
      "margin": null,
      "max_height": null,
      "max_width": null,
      "min_height": null,
      "min_width": null,
      "object_fit": null,
      "object_position": null,
      "order": null,
      "overflow": null,
      "overflow_x": null,
      "overflow_y": null,
      "padding": null,
      "right": null,
      "top": null,
      "visibility": null,
      "width": null
     }
    },
    "4101788a835c4a8395b2767e65f3d1c5": {
     "model_module": "@jupyter-widgets/base",
     "model_module_version": "1.2.0",
     "model_name": "LayoutModel",
     "state": {
      "_model_module": "@jupyter-widgets/base",
      "_model_module_version": "1.2.0",
      "_model_name": "LayoutModel",
      "_view_count": null,
      "_view_module": "@jupyter-widgets/base",
      "_view_module_version": "1.2.0",
      "_view_name": "LayoutView",
      "align_content": null,
      "align_items": null,
      "align_self": null,
      "border": null,
      "bottom": null,
      "display": null,
      "flex": null,
      "flex_flow": null,
      "grid_area": null,
      "grid_auto_columns": null,
      "grid_auto_flow": null,
      "grid_auto_rows": null,
      "grid_column": null,
      "grid_gap": null,
      "grid_row": null,
      "grid_template_areas": null,
      "grid_template_columns": null,
      "grid_template_rows": null,
      "height": null,
      "justify_content": null,
      "justify_items": null,
      "left": null,
      "margin": null,
      "max_height": null,
      "max_width": null,
      "min_height": null,
      "min_width": null,
      "object_fit": null,
      "object_position": null,
      "order": null,
      "overflow": null,
      "overflow_x": null,
      "overflow_y": null,
      "padding": null,
      "right": null,
      "top": null,
      "visibility": null,
      "width": null
     }
    },
    "441acc0d938e427d9d0b4740607e10a2": {
     "model_module": "@jupyter-widgets/base",
     "model_module_version": "1.2.0",
     "model_name": "LayoutModel",
     "state": {
      "_model_module": "@jupyter-widgets/base",
      "_model_module_version": "1.2.0",
      "_model_name": "LayoutModel",
      "_view_count": null,
      "_view_module": "@jupyter-widgets/base",
      "_view_module_version": "1.2.0",
      "_view_name": "LayoutView",
      "align_content": null,
      "align_items": null,
      "align_self": null,
      "border": null,
      "bottom": null,
      "display": null,
      "flex": null,
      "flex_flow": null,
      "grid_area": null,
      "grid_auto_columns": null,
      "grid_auto_flow": null,
      "grid_auto_rows": null,
      "grid_column": null,
      "grid_gap": null,
      "grid_row": null,
      "grid_template_areas": null,
      "grid_template_columns": null,
      "grid_template_rows": null,
      "height": null,
      "justify_content": null,
      "justify_items": null,
      "left": null,
      "margin": null,
      "max_height": null,
      "max_width": null,
      "min_height": null,
      "min_width": null,
      "object_fit": null,
      "object_position": null,
      "order": null,
      "overflow": null,
      "overflow_x": null,
      "overflow_y": null,
      "padding": null,
      "right": null,
      "top": null,
      "visibility": null,
      "width": null
     }
    },
    "4dc96063e49b46eba5f0a8cc3bdf6cdd": {
     "model_module": "@jupyter-widgets/base",
     "model_module_version": "1.2.0",
     "model_name": "LayoutModel",
     "state": {
      "_model_module": "@jupyter-widgets/base",
      "_model_module_version": "1.2.0",
      "_model_name": "LayoutModel",
      "_view_count": null,
      "_view_module": "@jupyter-widgets/base",
      "_view_module_version": "1.2.0",
      "_view_name": "LayoutView",
      "align_content": null,
      "align_items": null,
      "align_self": null,
      "border": null,
      "bottom": null,
      "display": null,
      "flex": null,
      "flex_flow": null,
      "grid_area": null,
      "grid_auto_columns": null,
      "grid_auto_flow": null,
      "grid_auto_rows": null,
      "grid_column": null,
      "grid_gap": null,
      "grid_row": null,
      "grid_template_areas": null,
      "grid_template_columns": null,
      "grid_template_rows": null,
      "height": null,
      "justify_content": null,
      "justify_items": null,
      "left": null,
      "margin": null,
      "max_height": null,
      "max_width": null,
      "min_height": null,
      "min_width": null,
      "object_fit": null,
      "object_position": null,
      "order": null,
      "overflow": null,
      "overflow_x": null,
      "overflow_y": null,
      "padding": null,
      "right": null,
      "top": null,
      "visibility": null,
      "width": null
     }
    },
    "4e0372335d134d2fa456d3786dce32d3": {
     "model_module": "@jupyter-widgets/controls",
     "model_module_version": "1.5.0",
     "model_name": "DescriptionStyleModel",
     "state": {
      "_model_module": "@jupyter-widgets/controls",
      "_model_module_version": "1.5.0",
      "_model_name": "DescriptionStyleModel",
      "_view_count": null,
      "_view_module": "@jupyter-widgets/base",
      "_view_module_version": "1.2.0",
      "_view_name": "StyleView",
      "description_width": ""
     }
    },
    "55a4f81c257f479393436e67516cc942": {
     "model_module": "@jupyter-widgets/controls",
     "model_module_version": "1.5.0",
     "model_name": "FloatProgressModel",
     "state": {
      "_dom_classes": [],
      "_model_module": "@jupyter-widgets/controls",
      "_model_module_version": "1.5.0",
      "_model_name": "FloatProgressModel",
      "_view_count": null,
      "_view_module": "@jupyter-widgets/controls",
      "_view_module_version": "1.5.0",
      "_view_name": "ProgressView",
      "bar_style": "success",
      "description": "",
      "description_tooltip": null,
      "layout": "IPY_MODEL_35988ba48e3e4c82a42f34536c8fd84c",
      "max": 15000,
      "min": 0,
      "orientation": "horizontal",
      "style": "IPY_MODEL_a03be10067d640a6822a3aff9aa7b17f",
      "value": 15000
     }
    },
    "58c4af15f84343f7a4b81ed8d3817926": {
     "model_module": "@jupyter-widgets/controls",
     "model_module_version": "1.5.0",
     "model_name": "HTMLModel",
     "state": {
      "_dom_classes": [],
      "_model_module": "@jupyter-widgets/controls",
      "_model_module_version": "1.5.0",
      "_model_name": "HTMLModel",
      "_view_count": null,
      "_view_module": "@jupyter-widgets/controls",
      "_view_module_version": "1.5.0",
      "_view_name": "HTMLView",
      "description": "",
      "description_tooltip": null,
      "layout": "IPY_MODEL_925b8b403d3349fdb6b6b579d67edceb",
      "placeholder": "​",
      "style": "IPY_MODEL_0609d40b19174e72b80faaf3a9a6d3e7",
      "value": "100%"
     }
    },
    "5d4d3d693e0d4685b06503bd81f3dffc": {
     "model_module": "@jupyter-widgets/controls",
     "model_module_version": "1.5.0",
     "model_name": "ProgressStyleModel",
     "state": {
      "_model_module": "@jupyter-widgets/controls",
      "_model_module_version": "1.5.0",
      "_model_name": "ProgressStyleModel",
      "_view_count": null,
      "_view_module": "@jupyter-widgets/base",
      "_view_module_version": "1.2.0",
      "_view_name": "StyleView",
      "bar_color": null,
      "description_width": ""
     }
    },
    "68f0f4fdcb6c409a888e0436e645a1ac": {
     "model_module": "@jupyter-widgets/controls",
     "model_module_version": "1.5.0",
     "model_name": "DescriptionStyleModel",
     "state": {
      "_model_module": "@jupyter-widgets/controls",
      "_model_module_version": "1.5.0",
      "_model_name": "DescriptionStyleModel",
      "_view_count": null,
      "_view_module": "@jupyter-widgets/base",
      "_view_module_version": "1.2.0",
      "_view_name": "StyleView",
      "description_width": ""
     }
    },
    "6dc6346cedc8469f9e6c46224e88faab": {
     "model_module": "@jupyter-widgets/controls",
     "model_module_version": "1.5.0",
     "model_name": "HBoxModel",
     "state": {
      "_dom_classes": [],
      "_model_module": "@jupyter-widgets/controls",
      "_model_module_version": "1.5.0",
      "_model_name": "HBoxModel",
      "_view_count": null,
      "_view_module": "@jupyter-widgets/controls",
      "_view_module_version": "1.5.0",
      "_view_name": "HBoxView",
      "box_style": "",
      "children": [
       "IPY_MODEL_e3187e3846c64007996e9f706aaaed2e",
       "IPY_MODEL_55a4f81c257f479393436e67516cc942",
       "IPY_MODEL_aad3050ddf2f43dc90ed61d519e19ee4"
      ],
      "layout": "IPY_MODEL_441acc0d938e427d9d0b4740607e10a2"
     }
    },
    "6f211f4ef36f40f795656b40488a0341": {
     "model_module": "@jupyter-widgets/base",
     "model_module_version": "1.2.0",
     "model_name": "LayoutModel",
     "state": {
      "_model_module": "@jupyter-widgets/base",
      "_model_module_version": "1.2.0",
      "_model_name": "LayoutModel",
      "_view_count": null,
      "_view_module": "@jupyter-widgets/base",
      "_view_module_version": "1.2.0",
      "_view_name": "LayoutView",
      "align_content": null,
      "align_items": null,
      "align_self": null,
      "border": null,
      "bottom": null,
      "display": null,
      "flex": null,
      "flex_flow": null,
      "grid_area": null,
      "grid_auto_columns": null,
      "grid_auto_flow": null,
      "grid_auto_rows": null,
      "grid_column": null,
      "grid_gap": null,
      "grid_row": null,
      "grid_template_areas": null,
      "grid_template_columns": null,
      "grid_template_rows": null,
      "height": null,
      "justify_content": null,
      "justify_items": null,
      "left": null,
      "margin": null,
      "max_height": null,
      "max_width": null,
      "min_height": null,
      "min_width": null,
      "object_fit": null,
      "object_position": null,
      "order": null,
      "overflow": null,
      "overflow_x": null,
      "overflow_y": null,
      "padding": null,
      "right": null,
      "top": null,
      "visibility": null,
      "width": null
     }
    },
    "7783d8fc51f447498bf5ca3a7e73b697": {
     "model_module": "@jupyter-widgets/base",
     "model_module_version": "1.2.0",
     "model_name": "LayoutModel",
     "state": {
      "_model_module": "@jupyter-widgets/base",
      "_model_module_version": "1.2.0",
      "_model_name": "LayoutModel",
      "_view_count": null,
      "_view_module": "@jupyter-widgets/base",
      "_view_module_version": "1.2.0",
      "_view_name": "LayoutView",
      "align_content": null,
      "align_items": null,
      "align_self": null,
      "border": null,
      "bottom": null,
      "display": null,
      "flex": null,
      "flex_flow": null,
      "grid_area": null,
      "grid_auto_columns": null,
      "grid_auto_flow": null,
      "grid_auto_rows": null,
      "grid_column": null,
      "grid_gap": null,
      "grid_row": null,
      "grid_template_areas": null,
      "grid_template_columns": null,
      "grid_template_rows": null,
      "height": null,
      "justify_content": null,
      "justify_items": null,
      "left": null,
      "margin": null,
      "max_height": null,
      "max_width": null,
      "min_height": null,
      "min_width": null,
      "object_fit": null,
      "object_position": null,
      "order": null,
      "overflow": null,
      "overflow_x": null,
      "overflow_y": null,
      "padding": null,
      "right": null,
      "top": null,
      "visibility": null,
      "width": null
     }
    },
    "7f33ef344fbc4127b4d4be941e2595b0": {
     "model_module": "@jupyter-widgets/base",
     "model_module_version": "1.2.0",
     "model_name": "LayoutModel",
     "state": {
      "_model_module": "@jupyter-widgets/base",
      "_model_module_version": "1.2.0",
      "_model_name": "LayoutModel",
      "_view_count": null,
      "_view_module": "@jupyter-widgets/base",
      "_view_module_version": "1.2.0",
      "_view_name": "LayoutView",
      "align_content": null,
      "align_items": null,
      "align_self": null,
      "border": null,
      "bottom": null,
      "display": null,
      "flex": null,
      "flex_flow": null,
      "grid_area": null,
      "grid_auto_columns": null,
      "grid_auto_flow": null,
      "grid_auto_rows": null,
      "grid_column": null,
      "grid_gap": null,
      "grid_row": null,
      "grid_template_areas": null,
      "grid_template_columns": null,
      "grid_template_rows": null,
      "height": null,
      "justify_content": null,
      "justify_items": null,
      "left": null,
      "margin": null,
      "max_height": null,
      "max_width": null,
      "min_height": null,
      "min_width": null,
      "object_fit": null,
      "object_position": null,
      "order": null,
      "overflow": null,
      "overflow_x": null,
      "overflow_y": null,
      "padding": null,
      "right": null,
      "top": null,
      "visibility": null,
      "width": null
     }
    },
    "8049ed20d45146e086673b24b3989d28": {
     "model_module": "@jupyter-widgets/controls",
     "model_module_version": "1.5.0",
     "model_name": "DescriptionStyleModel",
     "state": {
      "_model_module": "@jupyter-widgets/controls",
      "_model_module_version": "1.5.0",
      "_model_name": "DescriptionStyleModel",
      "_view_count": null,
      "_view_module": "@jupyter-widgets/base",
      "_view_module_version": "1.2.0",
      "_view_name": "StyleView",
      "description_width": ""
     }
    },
    "80c2adbb46c440b4934d1388a222541a": {
     "model_module": "@jupyter-widgets/controls",
     "model_module_version": "1.5.0",
     "model_name": "FloatProgressModel",
     "state": {
      "_dom_classes": [],
      "_model_module": "@jupyter-widgets/controls",
      "_model_module_version": "1.5.0",
      "_model_name": "FloatProgressModel",
      "_view_count": null,
      "_view_module": "@jupyter-widgets/controls",
      "_view_module_version": "1.5.0",
      "_view_name": "ProgressView",
      "bar_style": "success",
      "description": "",
      "description_tooltip": null,
      "layout": "IPY_MODEL_f42186e1789a45458a19bb8d05a96ea4",
      "max": 75000,
      "min": 0,
      "orientation": "horizontal",
      "style": "IPY_MODEL_5d4d3d693e0d4685b06503bd81f3dffc",
      "value": 75000
     }
    },
    "925b8b403d3349fdb6b6b579d67edceb": {
     "model_module": "@jupyter-widgets/base",
     "model_module_version": "1.2.0",
     "model_name": "LayoutModel",
     "state": {
      "_model_module": "@jupyter-widgets/base",
      "_model_module_version": "1.2.0",
      "_model_name": "LayoutModel",
      "_view_count": null,
      "_view_module": "@jupyter-widgets/base",
      "_view_module_version": "1.2.0",
      "_view_name": "LayoutView",
      "align_content": null,
      "align_items": null,
      "align_self": null,
      "border": null,
      "bottom": null,
      "display": null,
      "flex": null,
      "flex_flow": null,
      "grid_area": null,
      "grid_auto_columns": null,
      "grid_auto_flow": null,
      "grid_auto_rows": null,
      "grid_column": null,
      "grid_gap": null,
      "grid_row": null,
      "grid_template_areas": null,
      "grid_template_columns": null,
      "grid_template_rows": null,
      "height": null,
      "justify_content": null,
      "justify_items": null,
      "left": null,
      "margin": null,
      "max_height": null,
      "max_width": null,
      "min_height": null,
      "min_width": null,
      "object_fit": null,
      "object_position": null,
      "order": null,
      "overflow": null,
      "overflow_x": null,
      "overflow_y": null,
      "padding": null,
      "right": null,
      "top": null,
      "visibility": null,
      "width": null
     }
    },
    "9aac4afa022a49cf822667475752576c": {
     "model_module": "@jupyter-widgets/controls",
     "model_module_version": "1.5.0",
     "model_name": "HTMLModel",
     "state": {
      "_dom_classes": [],
      "_model_module": "@jupyter-widgets/controls",
      "_model_module_version": "1.5.0",
      "_model_name": "HTMLModel",
      "_view_count": null,
      "_view_module": "@jupyter-widgets/controls",
      "_view_module_version": "1.5.0",
      "_view_name": "HTMLView",
      "description": "",
      "description_tooltip": null,
      "layout": "IPY_MODEL_4dc96063e49b46eba5f0a8cc3bdf6cdd",
      "placeholder": "​",
      "style": "IPY_MODEL_c681103772a24c1986b338324df7e0f9",
      "value": " 60000/60000 [02:45&lt;00:00, 305.81it/s]"
     }
    },
    "9bd5777307164b14a35dd31fdfe6e218": {
     "model_module": "@jupyter-widgets/controls",
     "model_module_version": "1.5.0",
     "model_name": "HTMLModel",
     "state": {
      "_dom_classes": [],
      "_model_module": "@jupyter-widgets/controls",
      "_model_module_version": "1.5.0",
      "_model_name": "HTMLModel",
      "_view_count": null,
      "_view_module": "@jupyter-widgets/controls",
      "_view_module_version": "1.5.0",
      "_view_name": "HTMLView",
      "description": "",
      "description_tooltip": null,
      "layout": "IPY_MODEL_7f33ef344fbc4127b4d4be941e2595b0",
      "placeholder": "​",
      "style": "IPY_MODEL_8049ed20d45146e086673b24b3989d28",
      "value": " 75000/75000 [00:00&lt;00:00, 408626.15 examples/s]"
     }
    },
    "a03be10067d640a6822a3aff9aa7b17f": {
     "model_module": "@jupyter-widgets/controls",
     "model_module_version": "1.5.0",
     "model_name": "ProgressStyleModel",
     "state": {
      "_model_module": "@jupyter-widgets/controls",
      "_model_module_version": "1.5.0",
      "_model_name": "ProgressStyleModel",
      "_view_count": null,
      "_view_module": "@jupyter-widgets/base",
      "_view_module_version": "1.2.0",
      "_view_name": "StyleView",
      "bar_color": null,
      "description_width": ""
     }
    },
    "aad3050ddf2f43dc90ed61d519e19ee4": {
     "model_module": "@jupyter-widgets/controls",
     "model_module_version": "1.5.0",
     "model_name": "HTMLModel",
     "state": {
      "_dom_classes": [],
      "_model_module": "@jupyter-widgets/controls",
      "_model_module_version": "1.5.0",
      "_model_name": "HTMLModel",
      "_view_count": null,
      "_view_module": "@jupyter-widgets/controls",
      "_view_module_version": "1.5.0",
      "_view_name": "HTMLView",
      "description": "",
      "description_tooltip": null,
      "layout": "IPY_MODEL_1ce762201dec4e39b79b953a739e9ff4",
      "placeholder": "​",
      "style": "IPY_MODEL_68f0f4fdcb6c409a888e0436e645a1ac",
      "value": " 15000/15000 [00:42&lt;00:00, 356.33it/s]"
     }
    },
    "b5a96e6f55f04aafa6485ecf30831772": {
     "model_module": "@jupyter-widgets/base",
     "model_module_version": "1.2.0",
     "model_name": "LayoutModel",
     "state": {
      "_model_module": "@jupyter-widgets/base",
      "_model_module_version": "1.2.0",
      "_model_name": "LayoutModel",
      "_view_count": null,
      "_view_module": "@jupyter-widgets/base",
      "_view_module_version": "1.2.0",
      "_view_name": "LayoutView",
      "align_content": null,
      "align_items": null,
      "align_self": null,
      "border": null,
      "bottom": null,
      "display": null,
      "flex": null,
      "flex_flow": null,
      "grid_area": null,
      "grid_auto_columns": null,
      "grid_auto_flow": null,
      "grid_auto_rows": null,
      "grid_column": null,
      "grid_gap": null,
      "grid_row": null,
      "grid_template_areas": null,
      "grid_template_columns": null,
      "grid_template_rows": null,
      "height": null,
      "justify_content": null,
      "justify_items": null,
      "left": null,
      "margin": null,
      "max_height": null,
      "max_width": null,
      "min_height": null,
      "min_width": null,
      "object_fit": null,
      "object_position": null,
      "order": null,
      "overflow": null,
      "overflow_x": null,
      "overflow_y": null,
      "padding": null,
      "right": null,
      "top": null,
      "visibility": null,
      "width": null
     }
    },
    "b9758408f868454aba3392367a224d16": {
     "model_module": "@jupyter-widgets/controls",
     "model_module_version": "1.5.0",
     "model_name": "FloatProgressModel",
     "state": {
      "_dom_classes": [],
      "_model_module": "@jupyter-widgets/controls",
      "_model_module_version": "1.5.0",
      "_model_name": "FloatProgressModel",
      "_view_count": null,
      "_view_module": "@jupyter-widgets/controls",
      "_view_module_version": "1.5.0",
      "_view_name": "ProgressView",
      "bar_style": "success",
      "description": "",
      "description_tooltip": null,
      "layout": "IPY_MODEL_fc49fd90a70d452b948f04803e3c3ea0",
      "max": 60000,
      "min": 0,
      "orientation": "horizontal",
      "style": "IPY_MODEL_cae042e47bb147918854dae8a33cbfc0",
      "value": 60000
     }
    },
    "bce3cc36a7d64ddead0ee2d743301d67": {
     "model_module": "@jupyter-widgets/controls",
     "model_module_version": "1.5.0",
     "model_name": "HBoxModel",
     "state": {
      "_dom_classes": [],
      "_model_module": "@jupyter-widgets/controls",
      "_model_module_version": "1.5.0",
      "_model_name": "HBoxModel",
      "_view_count": null,
      "_view_module": "@jupyter-widgets/controls",
      "_view_module_version": "1.5.0",
      "_view_name": "HBoxView",
      "box_style": "",
      "children": [
       "IPY_MODEL_33f17ac45ad048b8b6e983fd6899542a",
       "IPY_MODEL_80c2adbb46c440b4934d1388a222541a",
       "IPY_MODEL_9bd5777307164b14a35dd31fdfe6e218"
      ],
      "layout": "IPY_MODEL_4101788a835c4a8395b2767e65f3d1c5"
     }
    },
    "c681103772a24c1986b338324df7e0f9": {
     "model_module": "@jupyter-widgets/controls",
     "model_module_version": "1.5.0",
     "model_name": "DescriptionStyleModel",
     "state": {
      "_model_module": "@jupyter-widgets/controls",
      "_model_module_version": "1.5.0",
      "_model_name": "DescriptionStyleModel",
      "_view_count": null,
      "_view_module": "@jupyter-widgets/base",
      "_view_module_version": "1.2.0",
      "_view_name": "StyleView",
      "description_width": ""
     }
    },
    "cae042e47bb147918854dae8a33cbfc0": {
     "model_module": "@jupyter-widgets/controls",
     "model_module_version": "1.5.0",
     "model_name": "ProgressStyleModel",
     "state": {
      "_model_module": "@jupyter-widgets/controls",
      "_model_module_version": "1.5.0",
      "_model_name": "ProgressStyleModel",
      "_view_count": null,
      "_view_module": "@jupyter-widgets/base",
      "_view_module_version": "1.2.0",
      "_view_name": "StyleView",
      "bar_color": null,
      "description_width": ""
     }
    },
    "e3187e3846c64007996e9f706aaaed2e": {
     "model_module": "@jupyter-widgets/controls",
     "model_module_version": "1.5.0",
     "model_name": "HTMLModel",
     "state": {
      "_dom_classes": [],
      "_model_module": "@jupyter-widgets/controls",
      "_model_module_version": "1.5.0",
      "_model_name": "HTMLModel",
      "_view_count": null,
      "_view_module": "@jupyter-widgets/controls",
      "_view_module_version": "1.5.0",
      "_view_name": "HTMLView",
      "description": "",
      "description_tooltip": null,
      "layout": "IPY_MODEL_7783d8fc51f447498bf5ca3a7e73b697",
      "placeholder": "​",
      "style": "IPY_MODEL_4e0372335d134d2fa456d3786dce32d3",
      "value": "100%"
     }
    },
    "efb5de09b9604655b9f18b39657ed1d8": {
     "model_module": "@jupyter-widgets/controls",
     "model_module_version": "1.5.0",
     "model_name": "DescriptionStyleModel",
     "state": {
      "_model_module": "@jupyter-widgets/controls",
      "_model_module_version": "1.5.0",
      "_model_name": "DescriptionStyleModel",
      "_view_count": null,
      "_view_module": "@jupyter-widgets/base",
      "_view_module_version": "1.2.0",
      "_view_name": "StyleView",
      "description_width": ""
     }
    },
    "f42186e1789a45458a19bb8d05a96ea4": {
     "model_module": "@jupyter-widgets/base",
     "model_module_version": "1.2.0",
     "model_name": "LayoutModel",
     "state": {
      "_model_module": "@jupyter-widgets/base",
      "_model_module_version": "1.2.0",
      "_model_name": "LayoutModel",
      "_view_count": null,
      "_view_module": "@jupyter-widgets/base",
      "_view_module_version": "1.2.0",
      "_view_name": "LayoutView",
      "align_content": null,
      "align_items": null,
      "align_self": null,
      "border": null,
      "bottom": null,
      "display": null,
      "flex": null,
      "flex_flow": null,
      "grid_area": null,
      "grid_auto_columns": null,
      "grid_auto_flow": null,
      "grid_auto_rows": null,
      "grid_column": null,
      "grid_gap": null,
      "grid_row": null,
      "grid_template_areas": null,
      "grid_template_columns": null,
      "grid_template_rows": null,
      "height": null,
      "justify_content": null,
      "justify_items": null,
      "left": null,
      "margin": null,
      "max_height": null,
      "max_width": null,
      "min_height": null,
      "min_width": null,
      "object_fit": null,
      "object_position": null,
      "order": null,
      "overflow": null,
      "overflow_x": null,
      "overflow_y": null,
      "padding": null,
      "right": null,
      "top": null,
      "visibility": null,
      "width": null
     }
    },
    "fc49fd90a70d452b948f04803e3c3ea0": {
     "model_module": "@jupyter-widgets/base",
     "model_module_version": "1.2.0",
     "model_name": "LayoutModel",
     "state": {
      "_model_module": "@jupyter-widgets/base",
      "_model_module_version": "1.2.0",
      "_model_name": "LayoutModel",
      "_view_count": null,
      "_view_module": "@jupyter-widgets/base",
      "_view_module_version": "1.2.0",
      "_view_name": "LayoutView",
      "align_content": null,
      "align_items": null,
      "align_self": null,
      "border": null,
      "bottom": null,
      "display": null,
      "flex": null,
      "flex_flow": null,
      "grid_area": null,
      "grid_auto_columns": null,
      "grid_auto_flow": null,
      "grid_auto_rows": null,
      "grid_column": null,
      "grid_gap": null,
      "grid_row": null,
      "grid_template_areas": null,
      "grid_template_columns": null,
      "grid_template_rows": null,
      "height": null,
      "justify_content": null,
      "justify_items": null,
      "left": null,
      "margin": null,
      "max_height": null,
      "max_width": null,
      "min_height": null,
      "min_width": null,
      "object_fit": null,
      "object_position": null,
      "order": null,
      "overflow": null,
      "overflow_x": null,
      "overflow_y": null,
      "padding": null,
      "right": null,
      "top": null,
      "visibility": null,
      "width": null
     }
    }
   }
  }
 },
 "nbformat": 4,
 "nbformat_minor": 0
}
